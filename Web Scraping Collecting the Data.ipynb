{
 "cells": [
  {
   "cell_type": "markdown",
   "id": "993544f1",
   "metadata": {},
   "source": [
    "we will make a get request to the SpaceX API. We will also do some basic data wrangling and formating.\n",
    "\n",
    "Request to the SpaceX API\n",
    "\n",
    "Clean the requested data"
   ]
  },
  {
   "cell_type": "code",
   "execution_count": 7,
   "id": "a7028b73",
   "metadata": {},
   "outputs": [],
   "source": [
    "import requests  # for HTTP requests to get data from API\n",
    "import numpy as np\n",
    "import pandas as pd\n",
    "import datetime"
   ]
  },
  {
   "cell_type": "code",
   "execution_count": 8,
   "id": "f321ffbf",
   "metadata": {},
   "outputs": [],
   "source": [
    "def getBoosterVersion(data):\n",
    "    for x in data['rocket']:\n",
    "        response = requests.get(\"https://api.spacexdata.com/v4/rockets/\"+str(x)).json()\n",
    "        BoosterVersion.append(response['name'])\n",
    "\n",
    "# Takes the dataset and uses the launchpad column to call the API and append the data to the list\n",
    "def getLaunchSite(data):\n",
    "    for x in data['launchpad']:\n",
    "        response = requests.get(\"https://api.spacexdata.com/v4/launchpads/\"+str(x)).json()\n",
    "        Longitude.append(response['longitude'])\n",
    "        Latitude.append(response['latitude'])\n",
    "        LaunchSite.append(response['name'])\n",
    "        \n",
    "# Takes the dataset and uses the payloads column to call the API and append the data to the lists\n",
    "def getPayloadData(data):\n",
    "    for load in data['payloads']:\n",
    "        response = requests.get(\"https://api.spacexdata.com/v4/payloads/\"+load).json()\n",
    "        PayloadMass.append(response['mass_kg'])\n",
    "        Orbit.append(response['orbit'])\n",
    "        \n",
    "def getCoreData(data):\n",
    "    for core in data['cores']:\n",
    "            if core['core'] != None:\n",
    "                response = requests.get(\"https://api.spacexdata.com/v4/cores/\"+core['core']).json()\n",
    "                Block.append(response['block'])\n",
    "                ReusedCount.append(response['reuse_count'])\n",
    "                Serial.append(response['serial'])\n",
    "            else:\n",
    "                Block.append(None)\n",
    "                ReusedCount.append(None)\n",
    "                Serial.append(None)\n",
    "            Outcome.append(str(core['landing_success'])+' '+str(core['landing_type']))\n",
    "            Flights.append(core['flight'])\n",
    "            GridFins.append(core['gridfins'])\n",
    "            Reused.append(core['reused'])\n",
    "            Legs.append(core['legs'])\n",
    "            LandingPad.append(core['landpad']) \n",
    "            "
   ]
  },
  {
   "cell_type": "code",
   "execution_count": 11,
   "id": "7cf771a6",
   "metadata": {},
   "outputs": [],
   "source": [
    "spacex_url=\"https://api.spacexdata.com/v4/launches/past\"\n",
    "response = requests.get(spacex_url)\n",
    "#print(response.content)  # Check the content of the response"
   ]
  },
  {
   "cell_type": "markdown",
   "id": "cfb4e272",
   "metadata": {},
   "source": [
    "# Task 1: Request and parse the SpaceX launch data using the GET request\n"
   ]
  },
  {
   "cell_type": "markdown",
   "id": "77cc36e4",
   "metadata": {},
   "source": [
    "To make the requested JSON results more consistent, we will use the following static response object for this project:"
   ]
  },
  {
   "cell_type": "code",
   "execution_count": 12,
   "id": "5bf7639c",
   "metadata": {},
   "outputs": [
    {
     "data": {
      "text/plain": [
       "200"
      ]
     },
     "execution_count": 12,
     "metadata": {},
     "output_type": "execute_result"
    }
   ],
   "source": [
    "static_json_url='https://cf-courses-data.s3.us.cloud-object-storage.appdomain.cloud/IBM-DS0321EN-SkillsNetwork/datasets/API_call_spacex_api.json'\n",
    "response.status_code  # 200=successful"
   ]
  },
  {
   "cell_type": "markdown",
   "id": "09105d85",
   "metadata": {},
   "source": [
    "Now we decode the response content as a Json using .json() and turn it into a Pandas dataframe using .json_normalize(). Using the dataframe data print the first 5 rows"
   ]
  },
  {
   "cell_type": "code",
   "execution_count": 13,
   "id": "3960d09b",
   "metadata": {},
   "outputs": [
    {
     "name": "stdout",
     "output_type": "stream",
     "text": [
      "       static_fire_date_utc  static_fire_date_unix    net  window  \\\n",
      "0  2006-03-17T00:00:00.000Z           1.142554e+09  False     0.0   \n",
      "1                      None                    NaN  False     0.0   \n",
      "2                      None                    NaN  False     0.0   \n",
      "3  2008-09-20T00:00:00.000Z           1.221869e+09  False     0.0   \n",
      "4                      None                    NaN  False     0.0   \n",
      "\n",
      "                     rocket success  \\\n",
      "0  5e9d0d95eda69955f709d1eb   False   \n",
      "1  5e9d0d95eda69955f709d1eb   False   \n",
      "2  5e9d0d95eda69955f709d1eb   False   \n",
      "3  5e9d0d95eda69955f709d1eb    True   \n",
      "4  5e9d0d95eda69955f709d1eb    True   \n",
      "\n",
      "                                            failures  \\\n",
      "0  [{'time': 33, 'altitude': None, 'reason': 'mer...   \n",
      "1  [{'time': 301, 'altitude': 289, 'reason': 'har...   \n",
      "2  [{'time': 140, 'altitude': 35, 'reason': 'resi...   \n",
      "3                                                 []   \n",
      "4                                                 []   \n",
      "\n",
      "                                             details crew ships  ...  \\\n",
      "0   Engine failure at 33 seconds and loss of vehicle   []    []  ...   \n",
      "1  Successful first stage burn and transition to ...   []    []  ...   \n",
      "2  Residual stage 1 thrust led to collision betwe...   []    []  ...   \n",
      "3  Ratsat was carried to orbit on the first succe...   []    []  ...   \n",
      "4                                               None   []    []  ...   \n",
      "\n",
      "  links.reddit.media links.reddit.recovery links.flickr.small  \\\n",
      "0               None                  None                 []   \n",
      "1               None                  None                 []   \n",
      "2               None                  None                 []   \n",
      "3               None                  None                 []   \n",
      "4               None                  None                 []   \n",
      "\n",
      "   links.flickr.original                                     links.presskit  \\\n",
      "0                     []                                               None   \n",
      "1                     []                                               None   \n",
      "2                     []                                               None   \n",
      "3                     []                                               None   \n",
      "4                     []  http://www.spacex.com/press/2012/12/19/spacexs...   \n",
      "\n",
      "                                 links.webcast  links.youtube_id  \\\n",
      "0  https://www.youtube.com/watch?v=0a_00nJ_Y88       0a_00nJ_Y88   \n",
      "1  https://www.youtube.com/watch?v=Lk4zQ2wP-Nc       Lk4zQ2wP-Nc   \n",
      "2  https://www.youtube.com/watch?v=v0w9p3U8860       v0w9p3U8860   \n",
      "3  https://www.youtube.com/watch?v=dLQ2tZEH6G0       dLQ2tZEH6G0   \n",
      "4  https://www.youtube.com/watch?v=yTaIDooc8Og       yTaIDooc8Og   \n",
      "\n",
      "                                       links.article  \\\n",
      "0  https://www.space.com/2196-spacex-inaugural-fa...   \n",
      "1  https://www.space.com/3590-spacex-falcon-1-roc...   \n",
      "2  http://www.spacex.com/news/2013/02/11/falcon-1...   \n",
      "3               https://en.wikipedia.org/wiki/Ratsat   \n",
      "4  http://www.spacex.com/news/2013/02/12/falcon-1...   \n",
      "\n",
      "                                     links.wikipedia  fairings  \n",
      "0              https://en.wikipedia.org/wiki/DemoSat       NaN  \n",
      "1              https://en.wikipedia.org/wiki/DemoSat       NaN  \n",
      "2  https://en.wikipedia.org/wiki/Trailblazer_(sat...       NaN  \n",
      "3               https://en.wikipedia.org/wiki/Ratsat       NaN  \n",
      "4             https://en.wikipedia.org/wiki/RazakSAT       NaN  \n",
      "\n",
      "[5 rows x 43 columns]\n"
     ]
    }
   ],
   "source": [
    "data = pd.json_normalize(response.json())  # convert to flat table\n",
    "print(data.head())"
   ]
  },
  {
   "cell_type": "code",
   "execution_count": null,
   "id": "6b84094a",
   "metadata": {},
   "outputs": [],
   "source": []
  },
  {
   "cell_type": "markdown",
   "id": "46470f69",
   "metadata": {},
   "source": [
    "We notice that a lot of the data are IDs. For example the rocket column has no information about the rocket just an identification number.\n",
    "\n",
    "We will now use the API again to get information about the launches using the IDs given for each launch. Specifically we will be using columns rocket, payloads, launchpad, and cores."
   ]
  },
  {
   "cell_type": "code",
   "execution_count": 14,
   "id": "02c62a64",
   "metadata": {},
   "outputs": [],
   "source": [
    "# Lets take a subset of our dataframe keeping only the features we want and the flight number, and date_utc.\n",
    "data = data[['rocket', 'payloads', 'launchpad', 'cores', 'flight_number', 'date_utc']]\n",
    "\n",
    "# We will remove rows with multiple cores because those are falcon rockets with 2 extra rocket boosters and rows that have multiple payloads in a single rocket.\n",
    "data = data[data['cores'].map(len)==1]\n",
    "data = data[data['payloads'].map(len)==1]\n",
    "\n",
    "# Since payloads and cores are lists of size 1 we will also extract the single value in the list and replace the feature.\n",
    "data['cores'] = data['cores'].map(lambda x : x[0])\n",
    "data['payloads'] = data['payloads'].map(lambda x : x[0])\n",
    "\n",
    "# We also want to convert the date_utc to a datetime datatype and then extracting the date leaving the time\n",
    "data['date'] = pd.to_datetime(data['date_utc']).dt.date\n",
    "\n",
    "# Using the date we will restrict the dates of the launches\n",
    "data = data[data['date'] <= datetime.date(2020, 11, 13)]"
   ]
  },
  {
   "cell_type": "markdown",
   "id": "2a848f20",
   "metadata": {},
   "source": [
    "From the rocket we would like to learn the booster name\n",
    "\n",
    "From the payload we would like to learn the mass of the payload and the orbit that it is going to\n",
    "\n",
    "From the launchpad we would like to know the name of the launch site being used, the longitude, and the latitude.\n",
    "\n",
    "From cores we would like to learn the outcome of the landing, the type of the landing, number of flights with that core, whether gridfins were used, whether the core is reused, whether legs were used, the landing pad used, the block of the core which is a number used to seperate version of cores, the number of times this specific core has been reused, and the serial of the core.\n",
    "\n",
    "The data from these requests will be stored in lists and will be used to create a new dataframe."
   ]
  },
  {
   "cell_type": "code",
   "execution_count": 15,
   "id": "e37012df",
   "metadata": {},
   "outputs": [],
   "source": [
    "# Global variables \n",
    "BoosterVersion = []\n",
    "PayloadMass = []\n",
    "Orbit = []\n",
    "LaunchSite = []\n",
    "Outcome = []\n",
    "Flights = []\n",
    "GridFins = []\n",
    "Reused = []\n",
    "Legs = []\n",
    "LandingPad = []\n",
    "Block = []\n",
    "ReusedCount = []\n",
    "Serial = []\n",
    "Longitude = []\n",
    "Latitude = []"
   ]
  },
  {
   "cell_type": "code",
   "execution_count": 16,
   "id": "e849b50a",
   "metadata": {},
   "outputs": [
    {
     "data": {
      "text/plain": [
       "['Falcon 1', 'Falcon 1', 'Falcon 1', 'Falcon 1', 'Falcon 9']"
      ]
     },
     "execution_count": 16,
     "metadata": {},
     "output_type": "execute_result"
    }
   ],
   "source": [
    "# Call getBoosterVersion\n",
    "getBoosterVersion(data)\n",
    "BoosterVersion[0:5]"
   ]
  },
  {
   "cell_type": "code",
   "execution_count": 17,
   "id": "84f4813c",
   "metadata": {},
   "outputs": [],
   "source": [
    "# Call getLaunchSite\n",
    "getLaunchSite(data)\n",
    "\n",
    "# Call getPayloadData\n",
    "getPayloadData(data)\n",
    "\n",
    "# Call getCoreData\n",
    "getCoreData(data)"
   ]
  },
  {
   "cell_type": "code",
   "execution_count": 18,
   "id": "cb6cc546",
   "metadata": {},
   "outputs": [],
   "source": [
    "# combine the columns into a dictionary\n",
    "launch_dict = {'FlightNumber': list(data['flight_number']),\n",
    "'Date': list(data['date']),\n",
    "'BoosterVersion':BoosterVersion,\n",
    "'PayloadMass':PayloadMass,\n",
    "'Orbit':Orbit,\n",
    "'LaunchSite':LaunchSite,\n",
    "'Outcome':Outcome,\n",
    "'Flights':Flights,\n",
    "'GridFins':GridFins,\n",
    "'Reused':Reused,\n",
    "'Legs':Legs,\n",
    "'LandingPad':LandingPad,\n",
    "'Block':Block,\n",
    "'ReusedCount':ReusedCount,\n",
    "'Serial':Serial,\n",
    "'Longitude': Longitude,\n",
    "'Latitude': Latitude}"
   ]
  },
  {
   "cell_type": "markdown",
   "id": "5cef11eb",
   "metadata": {},
   "source": [
    "Then, we need to create a Pandas data frame from the dictionary launch_dict."
   ]
  },
  {
   "cell_type": "code",
   "execution_count": 19,
   "id": "7399d08d",
   "metadata": {},
   "outputs": [
    {
     "name": "stdout",
     "output_type": "stream",
     "text": [
      "   FlightNumber        Date BoosterVersion  PayloadMass Orbit  \\\n",
      "0             1  2006-03-24       Falcon 1         20.0   LEO   \n",
      "1             2  2007-03-21       Falcon 1          NaN   LEO   \n",
      "2             4  2008-09-28       Falcon 1        165.0   LEO   \n",
      "3             5  2009-07-13       Falcon 1        200.0   LEO   \n",
      "4             6  2010-06-04       Falcon 9          NaN   LEO   \n",
      "\n",
      "        LaunchSite    Outcome  Flights  GridFins  Reused   Legs LandingPad  \\\n",
      "0  Kwajalein Atoll  None None        1     False   False  False       None   \n",
      "1  Kwajalein Atoll  None None        1     False   False  False       None   \n",
      "2  Kwajalein Atoll  None None        1     False   False  False       None   \n",
      "3  Kwajalein Atoll  None None        1     False   False  False       None   \n",
      "4     CCSFS SLC 40  None None        1     False   False  False       None   \n",
      "\n",
      "   Block  ReusedCount    Serial   Longitude   Latitude  \n",
      "0    NaN            0  Merlin1A  167.743129   9.047721  \n",
      "1    NaN            0  Merlin2A  167.743129   9.047721  \n",
      "2    NaN            0  Merlin2C  167.743129   9.047721  \n",
      "3    NaN            0  Merlin3C  167.743129   9.047721  \n",
      "4    1.0            0     B0003  -80.577366  28.561857  \n"
     ]
    }
   ],
   "source": [
    "data_falcon9 = pd.DataFrame(launch_dict)\n",
    "print(data_falcon9.head(5))"
   ]
  },
  {
   "cell_type": "markdown",
   "id": "9c8ef34f",
   "metadata": {},
   "source": [
    "# Task 2: Filter the dataframe to only include Falcon 9 launches"
   ]
  },
  {
   "cell_type": "markdown",
   "id": "601331b9",
   "metadata": {},
   "source": [
    "Finally we will remove the Falcon 1 launches keeping only the Falcon 9 launches. Filter the data dataframe using the BoosterVersion column to only keep the Falcon 9 launches. Save the filtered data to a new dataframe called data_falcon9."
   ]
  },
  {
   "cell_type": "code",
   "execution_count": 20,
   "id": "8e8e4313",
   "metadata": {},
   "outputs": [
    {
     "name": "stdout",
     "output_type": "stream",
     "text": [
      "Falcon 9    90\n",
      "Falcon 1     4\n",
      "Name: BoosterVersion, dtype: int64\n",
      "Falcon 9    90\n",
      "Name: BoosterVersion, dtype: int64\n"
     ]
    }
   ],
   "source": [
    "print(data_falcon9['BoosterVersion'].value_counts())\n",
    "data_falcon9 = data_falcon9[data_falcon9['BoosterVersion']=='Falcon 9']\n",
    "print(data_falcon9['BoosterVersion'].value_counts())"
   ]
  },
  {
   "cell_type": "markdown",
   "id": "7e93ea5b",
   "metadata": {},
   "source": [
    "Now that we have removed some values we should reset the FlgihtNumber column"
   ]
  },
  {
   "cell_type": "code",
   "execution_count": 21,
   "id": "2256018c",
   "metadata": {},
   "outputs": [
    {
     "data": {
      "text/html": [
       "<div>\n",
       "<style scoped>\n",
       "    .dataframe tbody tr th:only-of-type {\n",
       "        vertical-align: middle;\n",
       "    }\n",
       "\n",
       "    .dataframe tbody tr th {\n",
       "        vertical-align: top;\n",
       "    }\n",
       "\n",
       "    .dataframe thead th {\n",
       "        text-align: right;\n",
       "    }\n",
       "</style>\n",
       "<table border=\"1\" class=\"dataframe\">\n",
       "  <thead>\n",
       "    <tr style=\"text-align: right;\">\n",
       "      <th></th>\n",
       "      <th>FlightNumber</th>\n",
       "      <th>Date</th>\n",
       "      <th>BoosterVersion</th>\n",
       "      <th>PayloadMass</th>\n",
       "      <th>Orbit</th>\n",
       "      <th>LaunchSite</th>\n",
       "      <th>Outcome</th>\n",
       "      <th>Flights</th>\n",
       "      <th>GridFins</th>\n",
       "      <th>Reused</th>\n",
       "      <th>Legs</th>\n",
       "      <th>LandingPad</th>\n",
       "      <th>Block</th>\n",
       "      <th>ReusedCount</th>\n",
       "      <th>Serial</th>\n",
       "      <th>Longitude</th>\n",
       "      <th>Latitude</th>\n",
       "    </tr>\n",
       "  </thead>\n",
       "  <tbody>\n",
       "    <tr>\n",
       "      <th>4</th>\n",
       "      <td>1</td>\n",
       "      <td>2010-06-04</td>\n",
       "      <td>Falcon 9</td>\n",
       "      <td>NaN</td>\n",
       "      <td>LEO</td>\n",
       "      <td>CCSFS SLC 40</td>\n",
       "      <td>None None</td>\n",
       "      <td>1</td>\n",
       "      <td>False</td>\n",
       "      <td>False</td>\n",
       "      <td>False</td>\n",
       "      <td>None</td>\n",
       "      <td>1.0</td>\n",
       "      <td>0</td>\n",
       "      <td>B0003</td>\n",
       "      <td>-80.577366</td>\n",
       "      <td>28.561857</td>\n",
       "    </tr>\n",
       "    <tr>\n",
       "      <th>5</th>\n",
       "      <td>2</td>\n",
       "      <td>2012-05-22</td>\n",
       "      <td>Falcon 9</td>\n",
       "      <td>525.0</td>\n",
       "      <td>LEO</td>\n",
       "      <td>CCSFS SLC 40</td>\n",
       "      <td>None None</td>\n",
       "      <td>1</td>\n",
       "      <td>False</td>\n",
       "      <td>False</td>\n",
       "      <td>False</td>\n",
       "      <td>None</td>\n",
       "      <td>1.0</td>\n",
       "      <td>0</td>\n",
       "      <td>B0005</td>\n",
       "      <td>-80.577366</td>\n",
       "      <td>28.561857</td>\n",
       "    </tr>\n",
       "    <tr>\n",
       "      <th>6</th>\n",
       "      <td>3</td>\n",
       "      <td>2013-03-01</td>\n",
       "      <td>Falcon 9</td>\n",
       "      <td>677.0</td>\n",
       "      <td>ISS</td>\n",
       "      <td>CCSFS SLC 40</td>\n",
       "      <td>None None</td>\n",
       "      <td>1</td>\n",
       "      <td>False</td>\n",
       "      <td>False</td>\n",
       "      <td>False</td>\n",
       "      <td>None</td>\n",
       "      <td>1.0</td>\n",
       "      <td>0</td>\n",
       "      <td>B0007</td>\n",
       "      <td>-80.577366</td>\n",
       "      <td>28.561857</td>\n",
       "    </tr>\n",
       "    <tr>\n",
       "      <th>7</th>\n",
       "      <td>4</td>\n",
       "      <td>2013-09-29</td>\n",
       "      <td>Falcon 9</td>\n",
       "      <td>500.0</td>\n",
       "      <td>PO</td>\n",
       "      <td>VAFB SLC 4E</td>\n",
       "      <td>False Ocean</td>\n",
       "      <td>1</td>\n",
       "      <td>False</td>\n",
       "      <td>False</td>\n",
       "      <td>False</td>\n",
       "      <td>None</td>\n",
       "      <td>1.0</td>\n",
       "      <td>0</td>\n",
       "      <td>B1003</td>\n",
       "      <td>-120.610829</td>\n",
       "      <td>34.632093</td>\n",
       "    </tr>\n",
       "    <tr>\n",
       "      <th>8</th>\n",
       "      <td>5</td>\n",
       "      <td>2013-12-03</td>\n",
       "      <td>Falcon 9</td>\n",
       "      <td>3170.0</td>\n",
       "      <td>GTO</td>\n",
       "      <td>CCSFS SLC 40</td>\n",
       "      <td>None None</td>\n",
       "      <td>1</td>\n",
       "      <td>False</td>\n",
       "      <td>False</td>\n",
       "      <td>False</td>\n",
       "      <td>None</td>\n",
       "      <td>1.0</td>\n",
       "      <td>0</td>\n",
       "      <td>B1004</td>\n",
       "      <td>-80.577366</td>\n",
       "      <td>28.561857</td>\n",
       "    </tr>\n",
       "    <tr>\n",
       "      <th>...</th>\n",
       "      <td>...</td>\n",
       "      <td>...</td>\n",
       "      <td>...</td>\n",
       "      <td>...</td>\n",
       "      <td>...</td>\n",
       "      <td>...</td>\n",
       "      <td>...</td>\n",
       "      <td>...</td>\n",
       "      <td>...</td>\n",
       "      <td>...</td>\n",
       "      <td>...</td>\n",
       "      <td>...</td>\n",
       "      <td>...</td>\n",
       "      <td>...</td>\n",
       "      <td>...</td>\n",
       "      <td>...</td>\n",
       "      <td>...</td>\n",
       "    </tr>\n",
       "    <tr>\n",
       "      <th>89</th>\n",
       "      <td>86</td>\n",
       "      <td>2020-09-03</td>\n",
       "      <td>Falcon 9</td>\n",
       "      <td>15600.0</td>\n",
       "      <td>VLEO</td>\n",
       "      <td>KSC LC 39A</td>\n",
       "      <td>True ASDS</td>\n",
       "      <td>2</td>\n",
       "      <td>True</td>\n",
       "      <td>True</td>\n",
       "      <td>True</td>\n",
       "      <td>5e9e3032383ecb6bb234e7ca</td>\n",
       "      <td>5.0</td>\n",
       "      <td>12</td>\n",
       "      <td>B1060</td>\n",
       "      <td>-80.603956</td>\n",
       "      <td>28.608058</td>\n",
       "    </tr>\n",
       "    <tr>\n",
       "      <th>90</th>\n",
       "      <td>87</td>\n",
       "      <td>2020-10-06</td>\n",
       "      <td>Falcon 9</td>\n",
       "      <td>15600.0</td>\n",
       "      <td>VLEO</td>\n",
       "      <td>KSC LC 39A</td>\n",
       "      <td>True ASDS</td>\n",
       "      <td>3</td>\n",
       "      <td>True</td>\n",
       "      <td>True</td>\n",
       "      <td>True</td>\n",
       "      <td>5e9e3032383ecb6bb234e7ca</td>\n",
       "      <td>5.0</td>\n",
       "      <td>13</td>\n",
       "      <td>B1058</td>\n",
       "      <td>-80.603956</td>\n",
       "      <td>28.608058</td>\n",
       "    </tr>\n",
       "    <tr>\n",
       "      <th>91</th>\n",
       "      <td>88</td>\n",
       "      <td>2020-10-18</td>\n",
       "      <td>Falcon 9</td>\n",
       "      <td>15600.0</td>\n",
       "      <td>VLEO</td>\n",
       "      <td>KSC LC 39A</td>\n",
       "      <td>True ASDS</td>\n",
       "      <td>6</td>\n",
       "      <td>True</td>\n",
       "      <td>True</td>\n",
       "      <td>True</td>\n",
       "      <td>5e9e3032383ecb6bb234e7ca</td>\n",
       "      <td>5.0</td>\n",
       "      <td>12</td>\n",
       "      <td>B1051</td>\n",
       "      <td>-80.603956</td>\n",
       "      <td>28.608058</td>\n",
       "    </tr>\n",
       "    <tr>\n",
       "      <th>92</th>\n",
       "      <td>89</td>\n",
       "      <td>2020-10-24</td>\n",
       "      <td>Falcon 9</td>\n",
       "      <td>15600.0</td>\n",
       "      <td>VLEO</td>\n",
       "      <td>CCSFS SLC 40</td>\n",
       "      <td>True ASDS</td>\n",
       "      <td>3</td>\n",
       "      <td>True</td>\n",
       "      <td>True</td>\n",
       "      <td>True</td>\n",
       "      <td>5e9e3033383ecbb9e534e7cc</td>\n",
       "      <td>5.0</td>\n",
       "      <td>12</td>\n",
       "      <td>B1060</td>\n",
       "      <td>-80.577366</td>\n",
       "      <td>28.561857</td>\n",
       "    </tr>\n",
       "    <tr>\n",
       "      <th>93</th>\n",
       "      <td>90</td>\n",
       "      <td>2020-11-05</td>\n",
       "      <td>Falcon 9</td>\n",
       "      <td>3681.0</td>\n",
       "      <td>MEO</td>\n",
       "      <td>CCSFS SLC 40</td>\n",
       "      <td>True ASDS</td>\n",
       "      <td>1</td>\n",
       "      <td>True</td>\n",
       "      <td>False</td>\n",
       "      <td>True</td>\n",
       "      <td>5e9e3032383ecb6bb234e7ca</td>\n",
       "      <td>5.0</td>\n",
       "      <td>8</td>\n",
       "      <td>B1062</td>\n",
       "      <td>-80.577366</td>\n",
       "      <td>28.561857</td>\n",
       "    </tr>\n",
       "  </tbody>\n",
       "</table>\n",
       "<p>90 rows × 17 columns</p>\n",
       "</div>"
      ],
      "text/plain": [
       "    FlightNumber        Date BoosterVersion  PayloadMass Orbit    LaunchSite  \\\n",
       "4              1  2010-06-04       Falcon 9          NaN   LEO  CCSFS SLC 40   \n",
       "5              2  2012-05-22       Falcon 9        525.0   LEO  CCSFS SLC 40   \n",
       "6              3  2013-03-01       Falcon 9        677.0   ISS  CCSFS SLC 40   \n",
       "7              4  2013-09-29       Falcon 9        500.0    PO   VAFB SLC 4E   \n",
       "8              5  2013-12-03       Falcon 9       3170.0   GTO  CCSFS SLC 40   \n",
       "..           ...         ...            ...          ...   ...           ...   \n",
       "89            86  2020-09-03       Falcon 9      15600.0  VLEO    KSC LC 39A   \n",
       "90            87  2020-10-06       Falcon 9      15600.0  VLEO    KSC LC 39A   \n",
       "91            88  2020-10-18       Falcon 9      15600.0  VLEO    KSC LC 39A   \n",
       "92            89  2020-10-24       Falcon 9      15600.0  VLEO  CCSFS SLC 40   \n",
       "93            90  2020-11-05       Falcon 9       3681.0   MEO  CCSFS SLC 40   \n",
       "\n",
       "        Outcome  Flights  GridFins  Reused   Legs                LandingPad  \\\n",
       "4     None None        1     False   False  False                      None   \n",
       "5     None None        1     False   False  False                      None   \n",
       "6     None None        1     False   False  False                      None   \n",
       "7   False Ocean        1     False   False  False                      None   \n",
       "8     None None        1     False   False  False                      None   \n",
       "..          ...      ...       ...     ...    ...                       ...   \n",
       "89    True ASDS        2      True    True   True  5e9e3032383ecb6bb234e7ca   \n",
       "90    True ASDS        3      True    True   True  5e9e3032383ecb6bb234e7ca   \n",
       "91    True ASDS        6      True    True   True  5e9e3032383ecb6bb234e7ca   \n",
       "92    True ASDS        3      True    True   True  5e9e3033383ecbb9e534e7cc   \n",
       "93    True ASDS        1      True   False   True  5e9e3032383ecb6bb234e7ca   \n",
       "\n",
       "    Block  ReusedCount Serial   Longitude   Latitude  \n",
       "4     1.0            0  B0003  -80.577366  28.561857  \n",
       "5     1.0            0  B0005  -80.577366  28.561857  \n",
       "6     1.0            0  B0007  -80.577366  28.561857  \n",
       "7     1.0            0  B1003 -120.610829  34.632093  \n",
       "8     1.0            0  B1004  -80.577366  28.561857  \n",
       "..    ...          ...    ...         ...        ...  \n",
       "89    5.0           12  B1060  -80.603956  28.608058  \n",
       "90    5.0           13  B1058  -80.603956  28.608058  \n",
       "91    5.0           12  B1051  -80.603956  28.608058  \n",
       "92    5.0           12  B1060  -80.577366  28.561857  \n",
       "93    5.0            8  B1062  -80.577366  28.561857  \n",
       "\n",
       "[90 rows x 17 columns]"
      ]
     },
     "execution_count": 21,
     "metadata": {},
     "output_type": "execute_result"
    }
   ],
   "source": [
    "data_falcon9.loc[:,'FlightNumber'] = list(range(1, data_falcon9.shape[0]+1))\n",
    "data_falcon9"
   ]
  },
  {
   "cell_type": "markdown",
   "id": "8a939acf",
   "metadata": {},
   "source": [
    "# Data Wrangling"
   ]
  },
  {
   "cell_type": "markdown",
   "id": "5d10e4d5",
   "metadata": {},
   "source": [
    "We can see below that some of the rows are missing values in our dataset"
   ]
  },
  {
   "cell_type": "code",
   "execution_count": 23,
   "id": "63982cd0",
   "metadata": {},
   "outputs": [
    {
     "data": {
      "text/plain": [
       "FlightNumber       0\n",
       "Date               0\n",
       "BoosterVersion     0\n",
       "PayloadMass        5\n",
       "Orbit              0\n",
       "LaunchSite         0\n",
       "Outcome            0\n",
       "Flights            0\n",
       "GridFins           0\n",
       "Reused             0\n",
       "Legs               0\n",
       "LandingPad        26\n",
       "Block              0\n",
       "ReusedCount        0\n",
       "Serial             0\n",
       "Longitude          0\n",
       "Latitude           0\n",
       "dtype: int64"
      ]
     },
     "execution_count": 23,
     "metadata": {},
     "output_type": "execute_result"
    }
   ],
   "source": [
    "data_falcon9.isnull().sum()"
   ]
  },
  {
   "cell_type": "markdown",
   "id": "71c2a130",
   "metadata": {},
   "source": [
    "Before we can continue we must deal with these missing values. The LandingPad column will retain None values to represent when landing pads were not used."
   ]
  },
  {
   "cell_type": "markdown",
   "id": "1aa55d11",
   "metadata": {},
   "source": [
    "# Task 3: Dealing with Missing Values"
   ]
  },
  {
   "cell_type": "markdown",
   "id": "c9a2bacf",
   "metadata": {},
   "source": [
    "Calculate below the mean for the PayloadMass using the .mean(). Then use the mean and the .replace() function to replace np.nan values in the data with the mean you calculated."
   ]
  },
  {
   "cell_type": "code",
   "execution_count": 24,
   "id": "94efcd83",
   "metadata": {},
   "outputs": [
    {
     "data": {
      "text/plain": [
       "FlightNumber       0\n",
       "Date               0\n",
       "BoosterVersion     0\n",
       "PayloadMass        0\n",
       "Orbit              0\n",
       "LaunchSite         0\n",
       "Outcome            0\n",
       "Flights            0\n",
       "GridFins           0\n",
       "Reused             0\n",
       "Legs               0\n",
       "LandingPad        26\n",
       "Block              0\n",
       "ReusedCount        0\n",
       "Serial             0\n",
       "Longitude          0\n",
       "Latitude           0\n",
       "dtype: int64"
      ]
     },
     "execution_count": 24,
     "metadata": {},
     "output_type": "execute_result"
    }
   ],
   "source": [
    "data_falcon9['PayloadMass'] = data_falcon9['PayloadMass'].fillna(data_falcon9['PayloadMass'].mean())\n",
    "data_falcon9.isnull().sum()"
   ]
  },
  {
   "cell_type": "code",
   "execution_count": 25,
   "id": "3992aca8",
   "metadata": {},
   "outputs": [],
   "source": [
    "data_falcon9.to_csv('dataset_part_1.csv', index=False)"
   ]
  },
  {
   "cell_type": "code",
   "execution_count": null,
   "id": "d11c8845",
   "metadata": {},
   "outputs": [],
   "source": []
  }
 ],
 "metadata": {
  "kernelspec": {
   "display_name": "Python 3 (ipykernel)",
   "language": "python",
   "name": "python3"
  },
  "language_info": {
   "codemirror_mode": {
    "name": "ipython",
    "version": 3
   },
   "file_extension": ".py",
   "mimetype": "text/x-python",
   "name": "python",
   "nbconvert_exporter": "python",
   "pygments_lexer": "ipython3",
   "version": "3.9.13"
  }
 },
 "nbformat": 4,
 "nbformat_minor": 5
}
