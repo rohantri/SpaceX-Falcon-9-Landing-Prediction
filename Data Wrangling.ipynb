{
 "cells": [
  {
   "cell_type": "markdown",
   "id": "8fa90ba6",
   "metadata": {},
   "source": [
    "\n",
    "# Objective:"
   ]
  },
  {
   "cell_type": "markdown",
   "id": "2f040ecd",
   "metadata": {},
   "source": [
    "we will perform some Exploratory Data Analysis (EDA) to find some patterns in the data and determine what would be the label for training supervised models.\n",
    "\n",
    "In the data set, there are several different cases where the booster did not land successfully. Sometimes a landing was attempted but failed due to an accident; for example, True Ocean means the mission outcome was successfully landed to a specific region of the ocean while False Ocean means the mission outcome was unsuccessfully landed to a specific region of the ocean. True RTLS means the mission outcome was successfully landed to a ground pad False RTLS means the mission outcome was unsuccessfully landed to a ground pad.True ASDS means the mission outcome was successfully landed on a drone ship False ASDS means the mission outcome was unsuccessfully landed on a drone ship.\n",
    "\n",
    "we will mainly convert those outcomes into Training Labels with 1 means the booster successfully landed 0 means it was unsuccessful.\n"
   ]
  },
  {
   "cell_type": "code",
   "execution_count": 3,
   "id": "3bf4c40a",
   "metadata": {},
   "outputs": [],
   "source": [
    "import requests  # for HTTP requests to get data from API\n",
    "import numpy as np\n",
    "import pandas as pd\n",
    "import datetime"
   ]
  },
  {
   "cell_type": "code",
   "execution_count": 4,
   "id": "19da656e",
   "metadata": {},
   "outputs": [
    {
     "name": "stdout",
     "output_type": "stream",
     "text": [
      "   FlightNumber        Date BoosterVersion  PayloadMass Orbit    LaunchSite  \\\n",
      "0             1  2010-06-04       Falcon 9  6123.547647   LEO  CCSFS SLC 40   \n",
      "1             2  2012-05-22       Falcon 9   525.000000   LEO  CCSFS SLC 40   \n",
      "2             3  2013-03-01       Falcon 9   677.000000   ISS  CCSFS SLC 40   \n",
      "3             4  2013-09-29       Falcon 9   500.000000    PO   VAFB SLC 4E   \n",
      "4             5  2013-12-03       Falcon 9  3170.000000   GTO  CCSFS SLC 40   \n",
      "5             6  2014-01-06       Falcon 9  3325.000000   GTO  CCSFS SLC 40   \n",
      "6             7  2014-04-18       Falcon 9  2296.000000   ISS  CCSFS SLC 40   \n",
      "7             8  2014-07-14       Falcon 9  1316.000000   LEO  CCSFS SLC 40   \n",
      "8             9  2014-08-05       Falcon 9  4535.000000   GTO  CCSFS SLC 40   \n",
      "9            10  2014-09-07       Falcon 9  4428.000000   GTO  CCSFS SLC 40   \n",
      "\n",
      "       Outcome  Flights  GridFins  Reused   Legs LandingPad  Block  \\\n",
      "0    None None        1     False   False  False        NaN    1.0   \n",
      "1    None None        1     False   False  False        NaN    1.0   \n",
      "2    None None        1     False   False  False        NaN    1.0   \n",
      "3  False Ocean        1     False   False  False        NaN    1.0   \n",
      "4    None None        1     False   False  False        NaN    1.0   \n",
      "5    None None        1     False   False  False        NaN    1.0   \n",
      "6   True Ocean        1     False   False   True        NaN    1.0   \n",
      "7   True Ocean        1     False   False   True        NaN    1.0   \n",
      "8    None None        1     False   False  False        NaN    1.0   \n",
      "9    None None        1     False   False  False        NaN    1.0   \n",
      "\n",
      "   ReusedCount Serial   Longitude   Latitude  \n",
      "0            0  B0003  -80.577366  28.561857  \n",
      "1            0  B0005  -80.577366  28.561857  \n",
      "2            0  B0007  -80.577366  28.561857  \n",
      "3            0  B1003 -120.610829  34.632093  \n",
      "4            0  B1004  -80.577366  28.561857  \n",
      "5            0  B1005  -80.577366  28.561857  \n",
      "6            0  B1006  -80.577366  28.561857  \n",
      "7            0  B1007  -80.577366  28.561857  \n",
      "8            0  B1008  -80.577366  28.561857  \n",
      "9            0  B1011  -80.577366  28.561857  \n",
      "FlightNumber       0.000\n",
      "Date               0.000\n",
      "BoosterVersion     0.000\n",
      "PayloadMass        0.000\n",
      "Orbit              0.000\n",
      "LaunchSite         0.000\n",
      "Outcome            0.000\n",
      "Flights            0.000\n",
      "GridFins           0.000\n",
      "Reused             0.000\n",
      "Legs               0.000\n",
      "LandingPad        40.625\n",
      "Block              0.000\n",
      "ReusedCount        0.000\n",
      "Serial             0.000\n",
      "Longitude          0.000\n",
      "Latitude           0.000\n",
      "dtype: float64\n",
      "FlightNumber        int64\n",
      "Date               object\n",
      "BoosterVersion     object\n",
      "PayloadMass       float64\n",
      "Orbit              object\n",
      "LaunchSite         object\n",
      "Outcome            object\n",
      "Flights             int64\n",
      "GridFins             bool\n",
      "Reused               bool\n",
      "Legs                 bool\n",
      "LandingPad         object\n",
      "Block             float64\n",
      "ReusedCount         int64\n",
      "Serial             object\n",
      "Longitude         float64\n",
      "Latitude          float64\n",
      "dtype: object\n"
     ]
    }
   ],
   "source": [
    "df=pd.read_csv('dataset_part_1.csv')\n",
    "\n",
    "print(df.head(10))\n",
    "# Identify and calculate the percentage of the missing values in each attribute\n",
    "print(df.isnull().sum()/df.count()*100)\n",
    "# Identify which columns are numerical and categorical:\n",
    "print(df.dtypes)"
   ]
  },
  {
   "cell_type": "markdown",
   "id": "e8719a6e",
   "metadata": {},
   "source": [
    "# TASK 1: Calculate the number of launches on each site\n"
   ]
  },
  {
   "cell_type": "markdown",
   "id": "d2dd8a28",
   "metadata": {},
   "source": [
    "The data contains several Space X launch facilities: Cape Canaveral Space Launch Complex 40 VAFB SLC 4E , Vandenberg Air Force Base Space Launch Complex 4E (SLC-4E), Kennedy Space Center Launch Complex 39A KSC LC 39A .The location of each Launch Is placed in the column LaunchSite\n",
    "\n",
    "Next, let's see the number of launches for each site."
   ]
  },
  {
   "cell_type": "code",
   "execution_count": 6,
   "id": "788c3d03",
   "metadata": {},
   "outputs": [
    {
     "data": {
      "text/plain": [
       "CCSFS SLC 40    55\n",
       "KSC LC 39A      22\n",
       "VAFB SLC 4E     13\n",
       "Name: LaunchSite, dtype: int64"
      ]
     },
     "execution_count": 6,
     "metadata": {},
     "output_type": "execute_result"
    }
   ],
   "source": [
    "df['LaunchSite'].value_counts()"
   ]
  },
  {
   "cell_type": "markdown",
   "id": "1bc2f048",
   "metadata": {},
   "source": [
    "Each launch aims to an dedicated orbit, and here are some common orbit types:\n",
    "\n",
    "LEO: Low Earth orbit (LEO)is an Earth-centred orbit with an altitude of 2,000 km (1,200 mi) or less (approximately one-third of the radius of Earth), or with at least 11.25 periods per day (an orbital period of 128 minutes or less) and an eccentricity less than 0.25.[2] Most of the manmade objects in outer space are in LEO.\n",
    "\n",
    "VLEO: Very Low Earth Orbits (VLEO) can be defined as the orbits with a mean altitude below 450 km. Operating in these orbits can provide a number of benefits to Earth observation spacecraft as the spacecraft operates closer to the observation.\n",
    "\n",
    "GTO A geosynchronous orbit is a high Earth orbit that allows satellites to match Earth's rotation. Located at 22,236 miles (35,786 kilometers) above Earth's equator, this position is a valuable spot for monitoring weather, communications and surveillance. Because the satellite orbits at the same speed that the Earth is turning, the satellite seems to stay in place over a single longitude, though it may drift north to south,” NASA wrote on its Earth Observatory website.\n",
    "\n",
    "SSO (or SO): It is a Sun-synchronous orbit also called a heliosynchronous orbit is a nearly polar orbit around a planet, in which the satellite passes over any given point of the planet's surface at the same local mean solar time.\n",
    "\n",
    "ES-L1 :At the Lagrange points the gravitational forces of the two large bodies cancel out in such a way that a small object placed in orbit there is in equilibrium relative to the center of mass of the large bodies. L1 is one such point between the sun and the earth .\n",
    "\n",
    "HEO A highly elliptical orbit, is an elliptic orbit with high eccentricity, usually referring to one around Earth.\n",
    "ISS A modular space station (habitable artificial satellite) in low Earth orbit. It is a multinational collaborative project between five participating space agencies: NASA (United States), Roscosmos (Russia), JAXA (Japan), ESA (Europe), and CSA (Canada)\n",
    "\n",
    "MEO Geocentric orbits ranging in altitude from 2,000 km (1,200 mi) to just below geosynchronous orbit at 35,786 kilometers (22,236 mi). Also known as an intermediate circular orbit. These are \"most commonly at 20,200 kilometers (12,600 mi), or 20,650 kilometers (12,830 mi), with an orbital period of 12 hours\n",
    "\n",
    "HEO Geocentric orbits above the altitude of geosynchronous orbit (35,786 km or 22,236 mi) \n",
    "\n",
    "GEO It is a circular geosynchronous orbit 35,786 kilometres (22,236 miles) above Earth's equator and following the direction of Earth's rotation\n",
    "\n",
    "PO It is one type of satellites in which a satellite passes above or nearly above both poles of the body being orbited (usually a planet such as the Earth"
   ]
  },
  {
   "cell_type": "markdown",
   "id": "e80e0820",
   "metadata": {},
   "source": [
    "# TASK 2: Calculate the number and occurrence of each orbit"
   ]
  },
  {
   "cell_type": "code",
   "execution_count": 8,
   "id": "3ae079ee",
   "metadata": {},
   "outputs": [
    {
     "data": {
      "text/plain": [
       "GTO      27\n",
       "ISS      21\n",
       "VLEO     14\n",
       "PO        9\n",
       "LEO       7\n",
       "SSO       5\n",
       "MEO       3\n",
       "ES-L1     1\n",
       "HEO       1\n",
       "SO        1\n",
       "GEO       1\n",
       "Name: Orbit, dtype: int64"
      ]
     },
     "execution_count": 8,
     "metadata": {},
     "output_type": "execute_result"
    }
   ],
   "source": [
    "df['Orbit'].value_counts()"
   ]
  },
  {
   "cell_type": "markdown",
   "id": "e44a4848",
   "metadata": {},
   "source": [
    "# TASK 3: Calculate the number and occurence of mission outcome per orbit type\n"
   ]
  },
  {
   "cell_type": "code",
   "execution_count": 9,
   "id": "f92ddc55",
   "metadata": {},
   "outputs": [
    {
     "data": {
      "text/plain": [
       "True ASDS      41\n",
       "None None      19\n",
       "True RTLS      14\n",
       "False ASDS      6\n",
       "True Ocean      5\n",
       "False Ocean     2\n",
       "None ASDS       2\n",
       "False RTLS      1\n",
       "Name: Outcome, dtype: int64"
      ]
     },
     "execution_count": 9,
     "metadata": {},
     "output_type": "execute_result"
    }
   ],
   "source": [
    "landing_outcomes = df['Outcome'].value_counts()\n",
    "landing_outcomes"
   ]
  },
  {
   "cell_type": "markdown",
   "id": "f20df3d8",
   "metadata": {},
   "source": [
    "True Ocean means the mission outcome was successfully landed to a specific region of the ocean while. \n",
    "False Ocean means the mission outcome was unsuccessfully landed to a specific region of the ocean. \n",
    "True RTLS means the mission outcome was successfully landed to a ground pad .\n",
    "False RTLS means the mission outcome was unsuccessfully landed to a ground pad.\n",
    "True ASDS means the mission outcome was successfully landed to a drone ship. \n",
    "False ASDS means the mission outcome was unsuccessfully landed to a drone ship.\n",
    "None ASDS and None None these represent a failure to land."
   ]
  },
  {
   "cell_type": "code",
   "execution_count": 10,
   "id": "8c65b767",
   "metadata": {},
   "outputs": [
    {
     "name": "stdout",
     "output_type": "stream",
     "text": [
      "0 True ASDS\n",
      "1 None None\n",
      "2 True RTLS\n",
      "3 False ASDS\n",
      "4 True Ocean\n",
      "5 False Ocean\n",
      "6 None ASDS\n",
      "7 False RTLS\n"
     ]
    }
   ],
   "source": [
    "for i,outcome in enumerate(landing_outcomes.keys()):\n",
    "    print(i,outcome)"
   ]
  },
  {
   "cell_type": "code",
   "execution_count": 11,
   "id": "27c62e6c",
   "metadata": {},
   "outputs": [
    {
     "data": {
      "text/plain": [
       "{'False ASDS', 'False Ocean', 'False RTLS', 'None ASDS', 'None None'}"
      ]
     },
     "execution_count": 11,
     "metadata": {},
     "output_type": "execute_result"
    }
   ],
   "source": [
    "# We create a set of outcomes where the second stage did not land successfully:\n",
    "bad_outcomes=set(landing_outcomes.keys()[[1,3,5,6,7]])\n",
    "bad_outcomes"
   ]
  },
  {
   "cell_type": "markdown",
   "id": "d1607ef3",
   "metadata": {},
   "source": [
    "# TASK 4: Create a landing outcome label from Outcome column"
   ]
  },
  {
   "cell_type": "markdown",
   "id": "c1d93c45",
   "metadata": {},
   "source": [
    "Using the Outcome, we create a list where the element is zero if the corresponding row in Outcome is in the set bad_outcome; otherwise, it's one. Then assign it to the variable landing_class:"
   ]
  },
  {
   "cell_type": "code",
   "execution_count": 12,
   "id": "a50ca661",
   "metadata": {},
   "outputs": [
    {
     "name": "stdout",
     "output_type": "stream",
     "text": [
      "   Class\n",
      "0      0\n",
      "1      0\n",
      "2      0\n",
      "3      0\n",
      "4      0\n",
      "5      0\n",
      "6      1\n",
      "7      1\n",
      "0.6666666666666666\n",
      "   FlightNumber        Date BoosterVersion  PayloadMass Orbit    LaunchSite  \\\n",
      "0             1  2010-06-04       Falcon 9  6123.547647   LEO  CCSFS SLC 40   \n",
      "1             2  2012-05-22       Falcon 9   525.000000   LEO  CCSFS SLC 40   \n",
      "2             3  2013-03-01       Falcon 9   677.000000   ISS  CCSFS SLC 40   \n",
      "3             4  2013-09-29       Falcon 9   500.000000    PO   VAFB SLC 4E   \n",
      "4             5  2013-12-03       Falcon 9  3170.000000   GTO  CCSFS SLC 40   \n",
      "\n",
      "       Outcome  Flights  GridFins  Reused   Legs LandingPad  Block  \\\n",
      "0    None None        1     False   False  False        NaN    1.0   \n",
      "1    None None        1     False   False  False        NaN    1.0   \n",
      "2    None None        1     False   False  False        NaN    1.0   \n",
      "3  False Ocean        1     False   False  False        NaN    1.0   \n",
      "4    None None        1     False   False  False        NaN    1.0   \n",
      "\n",
      "   ReusedCount Serial   Longitude   Latitude  Class  \n",
      "0            0  B0003  -80.577366  28.561857      0  \n",
      "1            0  B0005  -80.577366  28.561857      0  \n",
      "2            0  B0007  -80.577366  28.561857      0  \n",
      "3            0  B1003 -120.610829  34.632093      0  \n",
      "4            0  B1004  -80.577366  28.561857      0  \n"
     ]
    }
   ],
   "source": [
    "landing_class = [0 if x in bad_outcomes else 1 for x in df['Outcome']]\n",
    "# landing_class\n",
    "df['Class']=landing_class\n",
    "print(df[['Class']].head(8))\n",
    "print(df[\"Class\"].mean())  # probability of positive outcome 2/3\n",
    "print(df.head(5))"
   ]
  },
  {
   "cell_type": "code",
   "execution_count": 13,
   "id": "e27489e9",
   "metadata": {},
   "outputs": [],
   "source": [
    "df.to_csv(\"dataset_part_2.csv\", index=False)\n",
    "df_wrangled = df"
   ]
  },
  {
   "cell_type": "code",
   "execution_count": null,
   "id": "4b0dd656",
   "metadata": {},
   "outputs": [],
   "source": []
  }
 ],
 "metadata": {
  "kernelspec": {
   "display_name": "Python 3 (ipykernel)",
   "language": "python",
   "name": "python3"
  },
  "language_info": {
   "codemirror_mode": {
    "name": "ipython",
    "version": 3
   },
   "file_extension": ".py",
   "mimetype": "text/x-python",
   "name": "python",
   "nbconvert_exporter": "python",
   "pygments_lexer": "ipython3",
   "version": "3.9.13"
  }
 },
 "nbformat": 4,
 "nbformat_minor": 5
}
